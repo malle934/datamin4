{
 "cells": [
  {
   "cell_type": "markdown",
   "id": "7b543a96-1a3c-477b-bc9f-c6f2e6e5cefc",
   "metadata": {},
   "source": [
    "                                           Assignment 4"
   ]
  },
  {
   "cell_type": "code",
   "execution_count": 1,
   "id": "e153e8df-8b21-4996-8828-e7b1cfafcfbb",
   "metadata": {},
   "outputs": [],
   "source": [
    "import os\n",
    "import warnings \n",
    "warnings.filterwarnings(\"ignore\")\n",
    "from skimage import filters\n",
    "from skimage import io,color\n",
    "from skimage import exposure\n",
    "import numpy as np\n"
   ]
  },
  {
   "cell_type": "code",
   "execution_count": null,
   "id": "b5256602",
   "metadata": {},
   "outputs": [],
   "source": [
    "directory=r\"C:\\Users\\HP\\Downloads\\programmingA\\Dataset\\Cropped\""
   ]
  },
  {
   "cell_type": "code",
   "execution_count": 7,
   "id": "8f93faf9",
   "metadata": {},
   "outputs": [],
   "source": [
    "def angle(dx, dy):\n",
    "    return np.mod(np.arctan2(dy, dx), np.pi)\n",
    "\n",
    "hist_images = []\n",
    "labels = []\n",
    "for index,breed in enumerate(os.listdir(dog_images)):\n",
    "    image_folder=os.path.join(dog_images,breed)\n",
    "    for image in os.listdir(image_folder):\n",
    "        img    = io.imread(os.path.join(image_folder,image.strip()))\n",
    "        img=color.rgb2gray(img)\n",
    "        sobel_img = angle(filters.sobel_h(img),filters.sobel_v(img))\n",
    "        hist,_=exposure.histogram(sobel_img, nbins=36)\n",
    "        hist_images.append(hist/np.sum(hist))\n",
    "        labels.append(index)\n",
    "hist_images=np.array(hist_images)\n",
    "labels=np.array(labels)"
   ]
  },
  {
   "cell_type": "code",
   "execution_count": 2,
   "id": "dbeb39d7-fed2-445a-8a4b-e01e6d85d87d",
   "metadata": {},
   "outputs": [],
   "source": [
    "from sklearn.decomposition import PCA\n",
    "model=PCA(2)\n",
    "pca2 = model.fit_transform(hist_images)\n"
   ]
  },
  {
   "cell_type": "code",
   "execution_count": 3,
   "id": "06b953a7-0ffc-4da7-9e95-a0159ebbadb4",
   "metadata": {},
   "outputs": [
    {
     "name": "stderr",
     "output_type": "stream",
     "text": [
      "  File \"D:\\Users\\rakesh\\anacondainstall\\lib\\site-packages\\joblib\\externals\\loky\\backend\\context.py\", line 282, in _count_physical_cores\n",
      "    raise ValueError(f\"found {cpu_count_physical} physical cores < 1\")\n"
     ]
    },
    {
     "name": "stdout",
     "output_type": "stream",
     "text": [
      "KMeans Random\n",
      "fowlkes  :0.31210384357136123\n",
      "silhouette :0.42566998145918294\n",
      "\n",
      "\n",
      "KMeans KMeans++\n",
      "fowlkes  :0.3135500174941293\n",
      "silhouette :0.4219079573583074\n",
      "\n",
      "\n",
      "BisectingKmeans\n",
      "fowlkes  :0.3160960680776303\n",
      "silhouette :0.3246413765119647\n",
      "\n",
      "\n",
      "SpectralClustering\n",
      "fowlkes  :0.34462999704928804\n",
      "silhouette :-0.0320470930142919\n",
      "\n",
      "\n"
     ]
    }
   ],
   "source": [
    "from sklearn.cluster import KMeans,BisectingKMeans,SpectralClustering\n",
    "from sklearn.metrics import silhouette_score,fowlkes_mallows_score\n",
    "\n",
    "models={\"KMeans Random\"  :KMeans(init=\"random\",n_clusters=4),\n",
    "        \"KMeans KMeans++\":KMeans(init=\"k-means++\",n_clusters=4),\n",
    "        \"BisectingKmeans\":BisectingKMeans(init=\"random\",n_clusters=4),\n",
    "        \"SpectralClustering\":SpectralClustering(n_clusters=4)}\n",
    "\n",
    "for method,model in models.items():\n",
    "    model=model.fit(pca2)\n",
    "    print(method)\n",
    "    print(\"fowlkes  :\" +str(fowlkes_mallows_score(labels,model.labels_)))\n",
    "    print(\"silhouette :\"+str(silhouette_score(pca2,model.labels_)))\n",
    "    print(\"\\n\")\n"
   ]
  },
  {
   "cell_type": "code",
   "execution_count": 8,
   "id": "0de350dc-62ab-44b4-994a-98e1be762ff9",
   "metadata": {
    "scrolled": true
   },
   "outputs": [
    {
     "name": "stdout",
     "output_type": "stream",
     "text": [
      "Estimated number of clusters: 4\n",
      "Estimated number of noise points: 0\n",
      "fowlkes  :0.49701080553799554\n",
      "silhoutte :0.4676486289516008\n"
     ]
    }
   ],
   "source": [
    "from sklearn.cluster import DBSCAN\n",
    "db = DBSCAN(eps=0.015, min_samples=2).fit(pca2)\n",
    "# Number of clusters in labels, ignoring noise if present.\n",
    "n_clusters_ = len(set(labels)) - (1 if -1 in labels else 0)\n",
    "n_noise_ = list(labels).count(-1)\n",
    "\n",
    "print(\"Estimated number of clusters: %d\" % n_clusters_)\n",
    "print(\"Estimated number of noise points: %d\" % n_noise_)\n",
    "print(\"fowlkes  :\" +str(fowlkes_mallows_score(labels,db.labels_)))\n",
    "print(\"silhoutte :\"+str(silhouette_score(pca2,db.labels_)))"
   ]
  },
  {
   "cell_type": "code",
   "execution_count": 6,
   "id": "36de1556-752a-48bd-a365-4e2230e1ce0f",
   "metadata": {},
   "outputs": [
    {
     "name": "stdout",
     "output_type": "stream",
     "text": [
      "ward\n",
      "folwkes :0.297576071811419\n",
      " silhouette :0.3733474857164391\n",
      "\n",
      "complete\n",
      "folwkes :0.4198789002063884\n",
      " silhouette :0.37694991350279805\n",
      "\n",
      "average\n",
      "folwkes :0.5018174702339943\n",
      " silhouette :0.6157525833578814\n",
      "\n",
      "single\n",
      "folwkes :0.5027533800828587\n",
      " silhouette :0.6295656109659\n",
      "\n"
     ]
    }
   ],
   "source": [
    "from sklearn.cluster import AgglomerativeClustering\n",
    "linkage=[\"ward\", \"complete\", \"average\", \"single\" ]\n",
    "for link in linkage:\n",
    "    clustering=AgglomerativeClustering(n_clusters=4,linkage=link)\n",
    "    pred=clustering.fit(pca2)\n",
    "    print(link)\n",
    "    print(\"folwkes :\"+str(fowlkes_mallows_score(labels,pred.labels_)))\n",
    "    print(\" silhouette :\"+str(silhouette_score(pca2,pred.labels_))+\"\\n\")"
   ]
  },
  {
   "cell_type": "markdown",
   "id": "a2f6a026-79bb-4822-ac2d-4cc0761e891f",
   "metadata": {},
   "source": [
    "### fowlkes score best to worst : single, average, dbscan,complete,Spectral, bisecting, kmenas++,kmean,ward\n",
    "\n"
   ]
  },
  {
   "cell_type": "markdown",
   "id": "4a3d2e8a-8985-403d-8218-a1b2ce51da2d",
   "metadata": {},
   "source": [
    "### silhouette score best to worst :single, average, dbscan, kmeans, kmeans++, complete, ward, bisecting, Spectral"
   ]
  },
  {
   "cell_type": "code",
   "execution_count": null,
   "id": "8d8db29d-6053-4c27-bc13-dea0bd35cdc9",
   "metadata": {},
   "outputs": [],
   "source": []
  }
 ],
 "metadata": {
  "kernelspec": {
   "display_name": "Python 3 (ipykernel)",
   "language": "python",
   "name": "python3"
  },
  "language_info": {
   "codemirror_mode": {
    "name": "ipython",
    "version": 3
   },
   "file_extension": ".py",
   "mimetype": "text/x-python",
   "name": "python",
   "nbconvert_exporter": "python",
   "pygments_lexer": "ipython3",
   "version": "3.9.12"
  }
 },
 "nbformat": 4,
 "nbformat_minor": 5
}
